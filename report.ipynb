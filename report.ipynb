 {
 "cells": [
  {
   "cell_type": "markdown",
   "source": [
    "Autore: Chiara Virzi <br>\n",
    "<br>\n",
    "<br>\n",
   ]
  },
  {
   "cell_type": "markdown",
   "source": [
    "Introduction <br>\n",
"YSO science and classes <br>\n",
"useful bands <br>\n",
"Sed and spectroscopy <br>\n",
"LLST and Data sets <br>\n",
"Results <br>\n",
"Conclusion <br>\n",
"Cross-sectional skills"
   ]
  }
 
  
