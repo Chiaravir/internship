
{
  "cells": [
    {
      "cell_type": "markdown",
      "metadata": {},
      "source": [
        "Author: Chiara Virzi <br>\n",
        "Date: <br>\n",
        "<br>\n"
      ]
    },
    {
      "cell_type": "markdown",
      "metadata": {},
      "source": [
        "#Introduction <br>\n",
        "- YSO science and classes <br>\n",
        "- Useful bands/ accretion bursts and how to detect them<br>\n",
        "- SED and spectroscopy (light curves) <br>\n",
        "# LLST and Data sets <br>\n",
         "- Astrodata lab <br>\n",
        "#Results <br>\n",
        "# Conclusion <br>\n",
        "# Cross-sectional skills"
      ]
    }
  ],
  "metadata": {
    "kernelspec": {
      "display_name": "Python 3",
      "language": "python",
      "name": "python3"
    },
    "language_info": {
      "codemirror_mode": {
        "name": "ipython",
        "version": 3
      },
      "file_extension": ".py",
      "mimetype": "text/x-python",
      "name": "python",
      "nbconvert_exporter": "python",
      "pygments_lexer": "ipython3",
      "version": "3.8"
    }
  },
  "nbformat": 4,
  "nbformat_minor": 4
}

 
  
