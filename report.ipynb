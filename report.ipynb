 {
 "cells": [
  {
   "cell_type": "markdown",
   "id": "749b0ddf",
   "metadata": {
    "tags": []
   },
   "source": [
    "<img align=\"left\" src = https://project.lsst.org/sites/default/files/Rubin-O-Logo_0.png width=250 style=\"padding: 10px\"> \n",
    "<br><b>Introducción a Jupyter Notebooks para Data Preview 0.2</b> <br>\n",
    "Autoría: Chiara Virzi <br>\n",
    "<br>\n",
    "<br>\n",
    "</img>"
   ]
  },
  {
   "cell_type": "markdown",
   "id": "cf7b00a0-a005-4a22-a4c7-a6ecb32c749a",
   "metadata": {},
   "source": [
    "Introduction <br>\n",
"YSO science and classes <br>\n",
"useful bands <br>\n",
"Sed and spectroscopy <br>\n",
"LLST and Data sets <br>\n",
"Results <br>\n",
"Conclusion <br>\n",
"Cross-sectional skills"
   ]
  },
  {
   "cell_type": "markdown",
   "id": "0ed8dff8-bcf7-4508-a2f2-cd2260321261",
   "metadata": {},
   "source": [
    "**Habilidades:** ejecutar código Python en un Jupyter Notebook. Usar el servicio TAP para obtener datos del catálogo Object. Utilizar Butler para obtener y visualizar una imagen deepCoadd."
   ]
  },
  {
   "cell_type": "markdown",
   "id": "a748b3a3-00e8-4215-adfa-adcabff26f56",
   "metadata": {},
   "source": [
    "**Productos de Datos LSST:** TAP dp02_dc2_catalogs. Tabla Object. Imagen deepCoadd con Butler."
   ]
  },
  {
   "cell_type": "markdown",
   "id": "387f46c8-d58f-400f-a6e6-f21c9ae7ce94",
   "metadata": {},
   "source": [
    "**Paquetes:** lsst.rsp.get_tap_service, lsst.rsp.retrieve_query, lsst.daf.butler, lsst.afw.display, lsst.geom, pandas, matplotlib"
   ]
  },
  {
   "cell_type": "markdown",
   "id": "7d622b84-83fa-4de9-94b6-d16af645a37e",
   "metadata": {},
   "source": [
    "**Créditos:** desarrollado originalmente por Melissa Graham y el equipo científico de la comunidad de Rubin (Rubin Community Science Team) en el contexto de la Vista Previa de Datos de Rubin DP0.1."
   ]
  },
  {
   "cell_type": "markdown",
   "id": "8f72b27f",
   "metadata": {},
   "source": [
    "**Soporte:**\n",
    "se pueden encontrar recursos y documentación relacionada a DP0 en <a href=\"https://dp0.lsst.io\">dp0.lsst.io</a>. Las preguntas son bienvenidas como nuevos temas en la categoría <a href=\"https://community.lsst.org/c/support/dp0\">Support - Data Preview 0</a> del foro de la comunidad de Rubin. El equipo de Rubin responderá a todas las preguntas publicadas allí."
   ]
  },
  {
   "cell_type": "markdown",
   "id": "cfc73be0",
   "metadata": {},
   "source": [
    "## 1.0. Introducción\n",
    "\n",
    "Este Jupyter Notebook da una introducción a cómo funcionan los notebooks. Muestra cómo ejecutar celdas de código y de texto *markdown*, cómo importar paquetes de Python y aprender acerca de sus módulos, y provee enlaces a documentacion adicional.\n",
    "\n",
    "Este Notebook también muestra la funcionalidad básica de la Plataforma Científica de Rubin (RSP - Rubin Science Platform) instalada en el Centro Interino de Datos (IDF - Interim Data Facility; Google Cloud) incluyendo cómo usar el servicio TAP para consultar y obtener datos de catálogos; matplotlib para graficar datos de catálogos; el paquete Butler de LSST para consultar y obtener datos de imágenes; y el paquete afwDisplay de LSST para visualizar imágenes.\n",
    "\n",
    "Este notebook utiliza el conjunto de datos Vista Previa de Datos 0.2 (DP0.2 - Data Preview 0.2). Este conjunto de datos utiliza un subconjunto de imágenes simuladas del Desafío de Datos 2 de DESC (DC2 - DESC's Data Challenge 2), que han sido *reprocesadas* por el Observatorio Rubin usando la versión 23 de las Pipelines Científicas de LSST (LSST Science Pipelines). Se puede encontrar más información sobre los datos simulados en el [artículo científico de DC2](https://ui.adsabs.harvard.edu/abs/2021ApJS..253...31L/abstract>) de DESC y en la [documentación de la divulgación de datos de DP0.2](https://dp0-2.lsst.io)."
   ]
  },
  {
   "cell_type": "markdown",
   "id": "c3507e32",
   "metadata": {},
   "source": [
    "### 1.1. Cómo usar un Jupyter Notebook\n",
    "\n",
    "Los Jupyter Notebooks contienen una combinación de código, salida, visualizaciones y texto narrativo. La fuente de documentación más completa acerca de los Jupyter Notebooks es [https://jupyter-notebook.readthedocs.io](https://jupyter-notebook.readthedocs.io), pero hay numerosos y muy buenos tutoriales y demostraciones para principiantes disponibles. Generalmente una búsqueda en la web de una pregunta, como por ejemplo \"cómo hacer una tabla markdown en jupyter notebook\", llevará a varios buenos ejemplos. A menudo las respuestas se hallarán en [StackOverflow](https://stackoverflow.com/).\n",
    "\n",
    "Un Jupyter Notebook es una serie de celdas (cells). Hay tres tipos de celdas: código, markdown y raw (en bruto). Este texto se generó a partir de una celda markdown. Arriba en la barra de menú vas a encontrar un menú desplegable para establecer el tipo de celda."
   ]
}
  

  
    
   
