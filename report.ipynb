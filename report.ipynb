{
  "cells": [
    {
      "cell_type": "markdown",
      "metadata": {},
      "source": [
        "Author: Chiara Virzi <br>\n",
        "Date: <br>\n",
        "<br>\n",
        "# Introduction\n",
        "## Young stellar object science \n",
        "Young Stellar Objects are in the early stages of stellar evolution. There are three primary classes of YSOs, which are based on their luminosity and spectral characteristics: \n",
        "\n",
        "- **Class I**: characterized by high luminosity and a prominent accretion disk. Its defined as a Classical T-Tauri star.  \n",
        "- **Class II**: These stars have formed more clearly, with a protoplanetary disk still present but with less material accreting onto the star.  \n",
        "- **Class III**: These stars are nearing the end of their formation phase, with little to no accretion disk left.  \n",
        "\n",
        "Young stellar objects are key to understanding star formation processes and the evolution of planetary systems.  \n",
        "\n",
        "## Accretion Bursts and How to Detect Them\n",
        "Accretion bursts are sudden and brief increases in luminosity caused by material falling onto a young star from its disk. These bursts are often detected in infrared bands, as the energy released is typically thermal radiation. \n",
        "\n",
        "The u and g bands are particularly useful for detecting accretion-related variability in young stellar objects, as accretion hotspots emit primarily at higher temperatures, making their variability more prominent at shorter wavelengths. On the other hand, variability in the i band is useful to identify dips caused by occultations from circumstellar disk material, as these \"dippers\" are typically associated with dust extinction, which is more noticeable at longer wavelengths like i.\n",
        "\n",
        "## SED and Spectroscopy \n",
        "The **Spectral Energy Distribution (SED)** represents the energy emitted by an astronomical object across various wavelengths of light. For YSOs, their SED is a crucial diagnostic tool that reveals details about their class and their mass. \n",
        "\n",
        "# Methods\n",
        "## Brokers\n",
        "\n",
        "## Light Curves  \n",
        "A **light curve** is a plot of an object's brightness over time. By studying the shape and variations in a light curve, astronomers can infer:  \n",
        "\n",
        "- Periodicity: that indicates the presence of accretion\n",
        "- Transients: Sudden changes in brightness, like accretion bursts  \n",
        "\n",
        "Spectroscopy allows for the detailed study of the spectral lines in light curves, helping to identify elements in the star’s atmosphere or its accretion disk.  \n",
        "\n",
        "# Results\n",
        "\n",
        "# Conclusion\n",
        "\n",
        "# Cross-sectional skills"
      ]
    },
    {
      "cell_type": "code",
      "execution_count": null,
      "metadata": {},
      "outputs": [],
      "source": [
        "# Inserisci qui il tuo codice\n",
        "print('Hello, world!')"
      ]
    }
  ],
  "metadata": {
    "kernelspec": {
      "display_name": "Python 3",
      "language": "python",
      "name": "python3"
    },
    "language_info": {
      "file_extension": ".py",
      "mimetype": "text/x-python",
      "name": "python",
      "version": "3.8"
    }
  },
  "nbformat": 4,
  "nbformat_minor": 4
}


 
  
